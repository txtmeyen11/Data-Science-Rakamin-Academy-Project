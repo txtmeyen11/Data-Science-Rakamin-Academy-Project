{
  "cells": [
    {
      "cell_type": "markdown",
      "metadata": {
        "id": "uGeF9C7aRobt"
      },
      "source": [
        "## Nama Kelompok : UNO\n",
        "\n",
        "Ketua : Daniel Rowin\n",
        "\n",
        "Anggota :\n",
        "- Febby Maghﬁrani Aziz\n",
        "- Amodya Subagio\n",
        "- Nur Rahman Shalahudin\n",
        "- Fakhry Abdurrohman\n",
        "- Daviro Yota Nagasan Wahyudi\n",
        "- Putri Vina Fajriyani\n",
        "- Asmiyeni Islamiati\n",
        "\n",
        "\n",
        "\n",
        "\n"
      ]
    },
    {
      "cell_type": "code",
      "execution_count": null,
      "metadata": {
        "id": "8X-cnLIVRvah"
      },
      "outputs": [],
      "source": [
        "import numpy as np\n",
        "import pandas as pd\n",
        "import matplotlib.pyplot as plt\n",
        "import seaborn as sns\n",
        "import warnings\n",
        "warnings.filterwarnings('ignore')"
      ]
    },
    {
      "cell_type": "code",
      "execution_count": null,
      "metadata": {
        "id": "7Z9vfS3IRxEp"
      },
      "outputs": [],
      "source": [
        "from matplotlib import rcParams\n",
        "\n",
        "rcParams['figure.figsize'] = 12, 4\n",
        "rcParams['lines.linewidth'] = 3\n",
        "rcParams['xtick.labelsize'] = 'x-large'\n",
        "rcParams['ytick.labelsize'] = 'x-large'"
      ]
    },
    {
      "cell_type": "markdown",
      "source": [
        "# SOAL No 1"
      ],
      "metadata": {
        "id": "AEWEa2fvreUQ"
      }
    },
    {
      "cell_type": "code",
      "source": [
        "from google.colab import drive\n",
        "drive.mount('/content/drive')"
      ],
      "metadata": {
        "id": "PLgUXBxRo95r",
        "colab": {
          "base_uri": "https://localhost:8080/",
          "height": 354
        },
        "outputId": "32d08259-dd13-47a1-d91c-24ffb17a9e83"
      },
      "execution_count": null,
      "outputs": [
        {
          "output_type": "error",
          "ename": "MessageError",
          "evalue": "ignored",
          "traceback": [
            "\u001b[0;31m---------------------------------------------------------------------------\u001b[0m",
            "\u001b[0;31mMessageError\u001b[0m                              Traceback (most recent call last)",
            "\u001b[0;32m<ipython-input-4-d5df0069828e>\u001b[0m in \u001b[0;36m<cell line: 2>\u001b[0;34m()\u001b[0m\n\u001b[1;32m      1\u001b[0m \u001b[0;32mfrom\u001b[0m \u001b[0mgoogle\u001b[0m\u001b[0;34m.\u001b[0m\u001b[0mcolab\u001b[0m \u001b[0;32mimport\u001b[0m \u001b[0mdrive\u001b[0m\u001b[0;34m\u001b[0m\u001b[0;34m\u001b[0m\u001b[0m\n\u001b[0;32m----> 2\u001b[0;31m \u001b[0mdrive\u001b[0m\u001b[0;34m.\u001b[0m\u001b[0mmount\u001b[0m\u001b[0;34m(\u001b[0m\u001b[0;34m'/content/drive'\u001b[0m\u001b[0;34m)\u001b[0m\u001b[0;34m\u001b[0m\u001b[0;34m\u001b[0m\u001b[0m\n\u001b[0m",
            "\u001b[0;32m/usr/local/lib/python3.10/dist-packages/google/colab/drive.py\u001b[0m in \u001b[0;36mmount\u001b[0;34m(mountpoint, force_remount, timeout_ms, readonly)\u001b[0m\n\u001b[1;32m    101\u001b[0m \u001b[0;32mdef\u001b[0m \u001b[0mmount\u001b[0m\u001b[0;34m(\u001b[0m\u001b[0mmountpoint\u001b[0m\u001b[0;34m,\u001b[0m \u001b[0mforce_remount\u001b[0m\u001b[0;34m=\u001b[0m\u001b[0;32mFalse\u001b[0m\u001b[0;34m,\u001b[0m \u001b[0mtimeout_ms\u001b[0m\u001b[0;34m=\u001b[0m\u001b[0;36m120000\u001b[0m\u001b[0;34m,\u001b[0m \u001b[0mreadonly\u001b[0m\u001b[0;34m=\u001b[0m\u001b[0;32mFalse\u001b[0m\u001b[0;34m)\u001b[0m\u001b[0;34m:\u001b[0m\u001b[0;34m\u001b[0m\u001b[0;34m\u001b[0m\u001b[0m\n\u001b[1;32m    102\u001b[0m   \u001b[0;34m\"\"\"Mount your Google Drive at the specified mountpoint path.\"\"\"\u001b[0m\u001b[0;34m\u001b[0m\u001b[0;34m\u001b[0m\u001b[0m\n\u001b[0;32m--> 103\u001b[0;31m   return _mount(\n\u001b[0m\u001b[1;32m    104\u001b[0m       \u001b[0mmountpoint\u001b[0m\u001b[0;34m,\u001b[0m\u001b[0;34m\u001b[0m\u001b[0;34m\u001b[0m\u001b[0m\n\u001b[1;32m    105\u001b[0m       \u001b[0mforce_remount\u001b[0m\u001b[0;34m=\u001b[0m\u001b[0mforce_remount\u001b[0m\u001b[0;34m,\u001b[0m\u001b[0;34m\u001b[0m\u001b[0;34m\u001b[0m\u001b[0m\n",
            "\u001b[0;32m/usr/local/lib/python3.10/dist-packages/google/colab/drive.py\u001b[0m in \u001b[0;36m_mount\u001b[0;34m(mountpoint, force_remount, timeout_ms, ephemeral, readonly)\u001b[0m\n\u001b[1;32m    130\u001b[0m   )\n\u001b[1;32m    131\u001b[0m   \u001b[0;32mif\u001b[0m \u001b[0mephemeral\u001b[0m\u001b[0;34m:\u001b[0m\u001b[0;34m\u001b[0m\u001b[0;34m\u001b[0m\u001b[0m\n\u001b[0;32m--> 132\u001b[0;31m     _message.blocking_request(\n\u001b[0m\u001b[1;32m    133\u001b[0m         \u001b[0;34m'request_auth'\u001b[0m\u001b[0;34m,\u001b[0m \u001b[0mrequest\u001b[0m\u001b[0;34m=\u001b[0m\u001b[0;34m{\u001b[0m\u001b[0;34m'authType'\u001b[0m\u001b[0;34m:\u001b[0m \u001b[0;34m'dfs_ephemeral'\u001b[0m\u001b[0;34m}\u001b[0m\u001b[0;34m,\u001b[0m \u001b[0mtimeout_sec\u001b[0m\u001b[0;34m=\u001b[0m\u001b[0;32mNone\u001b[0m\u001b[0;34m\u001b[0m\u001b[0;34m\u001b[0m\u001b[0m\n\u001b[1;32m    134\u001b[0m     )\n",
            "\u001b[0;32m/usr/local/lib/python3.10/dist-packages/google/colab/_message.py\u001b[0m in \u001b[0;36mblocking_request\u001b[0;34m(request_type, request, timeout_sec, parent)\u001b[0m\n\u001b[1;32m    174\u001b[0m       \u001b[0mrequest_type\u001b[0m\u001b[0;34m,\u001b[0m \u001b[0mrequest\u001b[0m\u001b[0;34m,\u001b[0m \u001b[0mparent\u001b[0m\u001b[0;34m=\u001b[0m\u001b[0mparent\u001b[0m\u001b[0;34m,\u001b[0m \u001b[0mexpect_reply\u001b[0m\u001b[0;34m=\u001b[0m\u001b[0;32mTrue\u001b[0m\u001b[0;34m\u001b[0m\u001b[0;34m\u001b[0m\u001b[0m\n\u001b[1;32m    175\u001b[0m   )\n\u001b[0;32m--> 176\u001b[0;31m   \u001b[0;32mreturn\u001b[0m \u001b[0mread_reply_from_input\u001b[0m\u001b[0;34m(\u001b[0m\u001b[0mrequest_id\u001b[0m\u001b[0;34m,\u001b[0m \u001b[0mtimeout_sec\u001b[0m\u001b[0;34m)\u001b[0m\u001b[0;34m\u001b[0m\u001b[0;34m\u001b[0m\u001b[0m\n\u001b[0m",
            "\u001b[0;32m/usr/local/lib/python3.10/dist-packages/google/colab/_message.py\u001b[0m in \u001b[0;36mread_reply_from_input\u001b[0;34m(message_id, timeout_sec)\u001b[0m\n\u001b[1;32m    101\u001b[0m     ):\n\u001b[1;32m    102\u001b[0m       \u001b[0;32mif\u001b[0m \u001b[0;34m'error'\u001b[0m \u001b[0;32min\u001b[0m \u001b[0mreply\u001b[0m\u001b[0;34m:\u001b[0m\u001b[0;34m\u001b[0m\u001b[0;34m\u001b[0m\u001b[0m\n\u001b[0;32m--> 103\u001b[0;31m         \u001b[0;32mraise\u001b[0m \u001b[0mMessageError\u001b[0m\u001b[0;34m(\u001b[0m\u001b[0mreply\u001b[0m\u001b[0;34m[\u001b[0m\u001b[0;34m'error'\u001b[0m\u001b[0;34m]\u001b[0m\u001b[0;34m)\u001b[0m\u001b[0;34m\u001b[0m\u001b[0;34m\u001b[0m\u001b[0m\n\u001b[0m\u001b[1;32m    104\u001b[0m       \u001b[0;32mreturn\u001b[0m \u001b[0mreply\u001b[0m\u001b[0;34m.\u001b[0m\u001b[0mget\u001b[0m\u001b[0;34m(\u001b[0m\u001b[0;34m'data'\u001b[0m\u001b[0;34m,\u001b[0m \u001b[0;32mNone\u001b[0m\u001b[0;34m)\u001b[0m\u001b[0;34m\u001b[0m\u001b[0;34m\u001b[0m\u001b[0m\n\u001b[1;32m    105\u001b[0m \u001b[0;34m\u001b[0m\u001b[0m\n",
            "\u001b[0;31mMessageError\u001b[0m: Error: credential propagation was unsuccessful"
          ]
        }
      ]
    },
    {
      "cell_type": "code",
      "execution_count": null,
      "metadata": {
        "id": "Dk1wsC8PR05e"
      },
      "outputs": [],
      "source": [
        "df = pd.read_csv('Product_Exclusive_Classification.csv')\n"
      ]
    },
    {
      "cell_type": "code",
      "execution_count": null,
      "metadata": {
        "id": "K9LQ1TYHR-tv",
        "colab": {
          "base_uri": "https://localhost:8080/"
        },
        "outputId": "4c0b03ed-a23c-4d49-fe00-48a232bb2538"
      },
      "outputs": [
        {
          "output_type": "stream",
          "name": "stdout",
          "text": [
            "<class 'pandas.core.frame.DataFrame'>\n",
            "RangeIndex: 8000 entries, 0 to 7999\n",
            "Data columns (total 9 columns):\n",
            " #   Column             Non-Null Count  Dtype  \n",
            "---  ------             --------------  -----  \n",
            " 0   id                 8000 non-null   int64  \n",
            " 1   brand              8000 non-null   object \n",
            " 2   category           7987 non-null   object \n",
            " 3   rating             7905 non-null   float64\n",
            " 4   number_of_reviews  7991 non-null   float64\n",
            " 5   love               7966 non-null   float64\n",
            " 6   price              7992 non-null   float64\n",
            " 7   value_price        7983 non-null   float64\n",
            " 8   exclusive          8000 non-null   int64  \n",
            "dtypes: float64(5), int64(2), object(2)\n",
            "memory usage: 562.6+ KB\n"
          ]
        }
      ],
      "source": [
        "df.info()"
      ]
    },
    {
      "cell_type": "code",
      "execution_count": null,
      "metadata": {
        "id": "L5UYMN4fSCY1"
      },
      "outputs": [],
      "source": [
        "df.sample(5)"
      ]
    },
    {
      "cell_type": "code",
      "execution_count": null,
      "metadata": {
        "id": "aWtseoVjSIpz"
      },
      "outputs": [],
      "source": [
        "# pengelompokan kolom berdasarkan jenisnya\n",
        "cats = ['brand', 'category']\n",
        "nums = ['rating', 'number_of_reviews', 'love', 'price', 'value_price']\n"
      ]
    },
    {
      "cell_type": "code",
      "execution_count": null,
      "metadata": {
        "id": "zqPjGElKSp6B"
      },
      "outputs": [],
      "source": [
        "df[nums].describe()"
      ]
    },
    {
      "cell_type": "code",
      "execution_count": null,
      "metadata": {
        "id": "VAyV4Ky9S591"
      },
      "outputs": [],
      "source": [
        "df[cats].describe()"
      ]
    },
    {
      "cell_type": "code",
      "execution_count": null,
      "metadata": {
        "id": "lDAtqPLnS74d"
      },
      "outputs": [],
      "source": [
        "df.isna().sum()"
      ]
    },
    {
      "cell_type": "code",
      "execution_count": null,
      "metadata": {
        "id": "Zs-CqCOvS9gd"
      },
      "outputs": [],
      "source": [
        "for col in cats:\n",
        "    print(f'''Value count kolom {col}:''')\n",
        "    print(df[col].value_counts())\n",
        "    print()"
      ]
    },
    {
      "cell_type": "markdown",
      "source": [
        "## A. Tipe Data dan Nama Kolom:\n",
        "\n",
        "Kolom 'id' sebaiknya menggunakan tipe data string karena agregasi yang diaplikasikan hanya count dan lebih fleksible jika id memiliki angka 0 di depan atau huruf di dalamnya.\n",
        "Tipe data lainnya sudah sesuai."
      ],
      "metadata": {
        "id": "1QAnWCzUqBEq"
      }
    },
    {
      "cell_type": "markdown",
      "source": [
        "## B. Data Kosong:\n",
        "\n",
        "Terdapat beberapa kolom dengan nilai kosong (null/missing values):\n",
        "\n",
        "Kolom 'category' memiliki nilai kosong sebanyak 13 entri. <br>\n",
        "Kolom 'rating' memiliki nilai kosong sebanyak 95 entri.<br>\n",
        "Kolom 'number_of_reviews' memiliki nilai kosong sebanyak 9 entri.<br>\n",
        "Kolom 'love' memiliki nilai kosong sebanyak 34 entri.<br>\n",
        "Kolom 'price' memiliki nilai kosong sebanyak 8 entri.<br>\n",
        "Kolom 'value_price' memiliki nilai kosong sebanyak 17 entri.<br>"
      ],
      "metadata": {
        "id": "4EVl0DZwq3x-"
      }
    },
    {
      "cell_type": "markdown",
      "source": [
        "## C. Summary Aneh:\n",
        "\n",
        "- 'Rating' minimum sebesar 0 mungkin dianggap tidak lazim, karena biasanya rating berada dalam rentang 1 hingga 5. Hal ini dapat menunjukkan potensi isu dalam data atau keberadaan produk tanpa rating.\n",
        "- Standar deviasi yang tinggi (931.72) pada 'number_of_reviews' menunjukkan variasi yang besar dalam data. Jumlah maksimum ulasan sebesar 19.000 juga menimbulkan kemungkinan adanya outlier atau produk yang sangat populer yang perlu diteliti lebih lanjut.\n",
        "- Nilai maksimum untuk 'love' sebesar 1.300.000 jauh lebih tinggi daripada rata-rata (17.563,96). Hal ini menunjukkan keberadaan produk dengan jumlah 'love' yang signifikan, mungkin menandakan adanya outlier atau produk yang sangat populer.\n",
        "\n"
      ],
      "metadata": {
        "id": "j8Vk29MLq7Nx"
      }
    },
    {
      "cell_type": "markdown",
      "source": [
        "# SOAL NO. 2"
      ],
      "metadata": {
        "id": "708LdMqqrvBh"
      }
    },
    {
      "cell_type": "code",
      "execution_count": null,
      "metadata": {
        "id": "jcw5y_gfTRQZ"
      },
      "outputs": [],
      "source": [
        "for i in range(0, len(nums)):\n",
        "    plt.subplot(1, len(nums), i+1)\n",
        "    sns.boxplot(y=df[nums[i]], color='pink', orient='v')\n",
        "    plt.tight_layout()"
      ]
    },
    {
      "cell_type": "code",
      "execution_count": null,
      "metadata": {
        "id": "OlnpFypyTyzQ"
      },
      "outputs": [],
      "source": [
        "plt.figure(figsize=(12, 5))\n",
        "for i in range(0, len(nums)):\n",
        "    plt.subplot(2, len(nums), i+1)\n",
        "    sns.distplot(df[nums[i]], color='turquoise')\n",
        "    plt.tight_layout()"
      ]
    },
    {
      "cell_type": "code",
      "execution_count": null,
      "metadata": {
        "id": "YI3-_i6MT65s"
      },
      "outputs": [],
      "source": [
        "for i in range(0, len(nums)):\n",
        "    plt.subplot(1, len(nums), i+1)\n",
        "    sns.violinplot(y=df[nums[i]], color='lightseagreen', orient='v')\n",
        "    plt.tight_layout()"
      ]
    },
    {
      "cell_type": "markdown",
      "source": [
        "Dalam visualisasi diatas ditemukan terdapat outlier pada masing masing feature numericals, hal yang harus difollow up dalam data preprocessing nanti antara lain:\n",
        "mencari penyebab terjadinya outlier,\n",
        "mengimputasi nilai jika tidak disebabkan karena kesalahan input,\n",
        "mentransformasi data untuk mengurangi dampak outlier,\n",
        "menghapus outlier jika tidak memperdulikan dampak outlier,\n",
        "menggunakan metode statistik median atau IQR yang lebih tahan terhadap outlier.\n",
        "\n",
        "Pada displot, terdapat multimodal pada rating, dan sisanya positively skewed. Pada violin plot dapat dilihat bahwa rating kebanyakan menyebar di angka 4 dan 5. Number of review kebanyakan menyebar di bawah angka 1000, love di bawah angkat 0,1, price dan value price kebanyakan berada di bawah 50.  \n"
      ],
      "metadata": {
        "id": "qytQgvUKs_ql"
      }
    },
    {
      "cell_type": "code",
      "execution_count": null,
      "metadata": {
        "id": "qmUgYXXbT9oA"
      },
      "outputs": [],
      "source": [
        "for i in range(0, len(cats)):\n",
        "    plt.subplot(2, 1, i+1)\n",
        "    sns.countplot(x = df[cats[i]], color='brown', orient='h')\n",
        "    plt.tight_layout()"
      ]
    },
    {
      "cell_type": "markdown",
      "source": [
        "Dalam feature categoricals brand terbanyak adalah Sephora dan parfume pada category. Terdapat banyak sekali kategory pada kolom brand dan kolom category, mungkin sebaiknya di kelompokkan lagi pada step selanjutnya agar dapat memperkecil jumlah kategori tiap kolom.\n"
      ],
      "metadata": {
        "id": "wNrJY-gbtH1h"
      }
    },
    {
      "cell_type": "markdown",
      "source": [
        "# SOAL NO. 3"
      ],
      "metadata": {
        "id": "_T8-Db0HtYRz"
      }
    },
    {
      "cell_type": "code",
      "execution_count": null,
      "metadata": {
        "id": "xQs5K8tYUFQo"
      },
      "outputs": [],
      "source": [
        "df.corr()"
      ]
    },
    {
      "cell_type": "code",
      "execution_count": null,
      "metadata": {
        "id": "Pwr5VRzqaywz"
      },
      "outputs": [],
      "source": [
        "plt.figure(figsize=(10, 8))\n",
        "sns.heatmap(df.corr(), cmap='Reds', annot=True, fmt='.2f')"
      ]
    },
    {
      "cell_type": "code",
      "execution_count": null,
      "metadata": {
        "id": "ynsg4wrWbBtX"
      },
      "outputs": [],
      "source": [
        "plt.figure(figsize=(15, 15))\n",
        "sns.pairplot(df, diag_kind='kde', hue = 'exclusive')"
      ]
    },
    {
      "cell_type": "code",
      "source": [
        "sns.catplot(data=df, x='love' ,y= 'number_of_reviews', hue = 'exclusive')"
      ],
      "metadata": {
        "id": "eZ1ODkXjkE5P"
      },
      "execution_count": null,
      "outputs": []
    },
    {
      "cell_type": "code",
      "source": [
        "sns.catplot(data=df, x='price' ,y= 'value_price', hue = 'exclusive')"
      ],
      "metadata": {
        "id": "L_7Ft9IFlJnA"
      },
      "execution_count": null,
      "outputs": []
    },
    {
      "cell_type": "code",
      "source": [
        "sns.catplot(data=df, x='rating' ,y= 'number_of_reviews', hue = 'exclusive')"
      ],
      "metadata": {
        "id": "2KSjz1aSmbkb"
      },
      "execution_count": null,
      "outputs": []
    },
    {
      "cell_type": "markdown",
      "source": [
        "- A. Berdasarkan korelasi antara masing-masing feature dan label. feature dan label yang paling relevan dari hasil visualisasi diatas adalah (love & number_of_reviews) yang memiliki korelasi positif dengan label yaitu 0,01 dan 0,05 dan (price & value_price) yang memiliki korelasi negatif dengan label yaitu -0,18 dan -0,17, feature-feature tersebut harus dipertahankan. Terlihat juga pada rating dan number_of_reviews dimana plot antara feature dan labelnya terpisah, ini mengindikasikan kombinasi yang baik sehingga perlu juga untuk dipertahankan. <br>\n",
        "- B. adanya korelasi antar feature (love & number_of_reviews) dan (price & value_price) yang nilai korelasinya >0.70 (redundan), maka perlu di drop salah satu featurenya karena dikhawatirkan terlalu banyak feature akan menurunkan performance model."
      ],
      "metadata": {
        "id": "eEwQR8H2mwVL"
      }
    },
    {
      "cell_type": "markdown",
      "source": [
        "# SOAL NO. 4"
      ],
      "metadata": {
        "id": "mx49_CHExrUZ"
      }
    },
    {
      "cell_type": "code",
      "execution_count": null,
      "metadata": {
        "id": "_pvUMxRnizC1"
      },
      "outputs": [],
      "source": [
        "df.dropna(inplace=True)"
      ]
    },
    {
      "cell_type": "code",
      "source": [
        "df.drop_duplicates(inplace=True)"
      ],
      "metadata": {
        "id": "HrQi6apC9tOx"
      },
      "execution_count": null,
      "outputs": []
    },
    {
      "cell_type": "code",
      "source": [
        "def handle_outliers(column):\n",
        "    Q1 = df[column].quantile(0.25)\n",
        "    Q3 = df[column].quantile(0.75)\n",
        "    IQR = Q3 - Q1\n",
        "    lower_bound = Q1 - 1.5 * IQR\n",
        "    upper_bound = Q3 + 1.5 * IQR\n",
        "    df[column] = df[column].apply(lambda x: lower_bound if x < lower_bound else (upper_bound if x > upper_bound else x))\n",
        "\n",
        "# Menangani outliers untuk fitur-fitur numerik tertentu\n",
        "handle_outliers('number_of_reviews')\n",
        "handle_outliers('love')\n",
        "handle_outliers('price')\n",
        "handle_outliers('value_price')"
      ],
      "metadata": {
        "id": "QdqKMkBu9wof"
      },
      "execution_count": null,
      "outputs": []
    },
    {
      "cell_type": "code",
      "source": [
        "#Log Transformation\n",
        "import numpy as np\n",
        "df['log_price'] = np.log1p(df['price'])\n",
        "df['log_value_price'] = np.log1p(df['value_price'])"
      ],
      "metadata": {
        "id": "m9FHHv8Z-qi1"
      },
      "execution_count": null,
      "outputs": []
    },
    {
      "cell_type": "code",
      "source": [
        "df_encoded = pd.get_dummies(df, columns=['category'], drop_first=True)"
      ],
      "metadata": {
        "id": "LtdeL0fB-xxY"
      },
      "execution_count": null,
      "outputs": []
    },
    {
      "cell_type": "code",
      "source": [
        "from imblearn.over_sampling import SMOTE\n",
        "\n",
        "X = df_encoded.drop('rating', axis=1)\n",
        "y = df_encoded['rating']\n",
        "\n",
        "# Menggunakan SMOTE untuk oversampling\n",
        "smote = SMOTE()\n",
        "X_resampled, y_resampled = smote.fit_resample(X, y)"
      ],
      "metadata": {
        "id": "jY-gtzcG-1Uq"
      },
      "execution_count": null,
      "outputs": []
    },
    {
      "cell_type": "markdown",
      "source": [
        "a. Handle missing value pada dataset ini dilakukan dengan menghapus baris-baris yang memiliki nilai kosong. Hal tersebut dipertimbangkan karena persentase missing value pada keenam kolom berada dibawah 10%.<br>\n",
        "b. Setelah menjalankan fungsi drop duplicated, tidak ditemukan data duplikat pada dataset ini.<br>\n",
        "c. Outliers pada dataset ini diatasi dengan menganalisis IQR pada kolom yang berpotensi outliers, yaitu apabila nilainya lebih ekstrim dari 1.5 IQR dari Q1 atau Q3.<br>\n",
        "d. Penggunaan log transform pada kolom price dan value price digunakan untuk mengatasi data yang tidak terdistribusi secara normal (right skewed).<br>\n",
        "d. Feature encoding yang digunakan pada kolom 'category' adalah One-hot encoding yang mengubah feature categorical menjadi numeric dengan menjadikan masing-masing nilai unik feature tersendiri. Artinya, setiap kategori dalam kolom 'category' yang asli kemudian memiliki kolom biner baru yang sesuai dalam dataset awal. Digunakan One-hot encoding karena kolom ini memiliki distinct value lebih dari dua serta tidak bersifat ordinal.<br>\n",
        "e. Solusi untuk mengatasi class imbalance pada kolom ‘rating’ adalah dengan melakukan oversampling pada kelas minoritas. Hasil oversampling dengan SMOTE menghasilkan dataset yang lebih seimbang antara kelas 'rating'.\n"
      ],
      "metadata": {
        "id": "TS4q9ixY4Gbd"
      }
    },
    {
      "cell_type": "markdown",
      "source": [
        "## 5. Feature Engineering (30 poin)"
      ],
      "metadata": {
        "id": "GmIe1tHZg50v"
      }
    },
    {
      "cell_type": "markdown",
      "source": [
        "A. Feature selection (membuang feature yang kurang relevan atau redundan)\n",
        "\n",
        "Feature ‘number of reviews’ dan ‘love’, serta  ‘price’ dan ‘value price’ akan tidak dipakai salah satunya sebab redundan"
      ],
      "metadata": {
        "id": "DDJU5siIg_ER"
      }
    },
    {
      "cell_type": "markdown",
      "source": [
        "B. Feature extraction (membuat feature baru dari feature yang sudah ada)\n",
        "\n",
        "Tidak dilakukan feature extraction karena dirasa feature yang tersedia sudah cukup untuk pemodelan machine learning sehingga tidak perlu dilakukan extraction"
      ],
      "metadata": {
        "id": "Iin0URgshBaf"
      }
    },
    {
      "cell_type": "markdown",
      "source": [
        "C. Tuliskan minimal 4 feature tambahan (selain yang sudah tersedia di dataset) yang mungkin akan sangat membantu membuat performansi model semakin bagus (ini hanya ide saja, untuk menguji kreativitas teman-teman, tidak perlu benar-benar dicari datanya dan tidak perlu diimplementasikan)\n",
        "\n",
        "1.   Seasonal Feature, kategori untuk musim atau range tertentu, misal review produk dalam 2 bulan tertentu, atau di dalam 4 musim, review saat winter, summer, autumn, fall\n",
        "2.   Feature Agregasi Rating, mana yang low dan high secara review, daripada membandingkan 6 tingkatan review (dari 0-6)\n",
        "3.   Feature Recency Bias. review saat ini apakah sama dengan review saat pertama produk release? Hal ini dapat melihat apakah produk makin berkembang baik, stagnan, atau justru memburuk secara kualitas berdasarkan review yang ada\n",
        "4.   Social Media Engagement. Apakah produk ini dishare dari social media? atau diklik dari link yang dishare di social media?\n",
        "\n",
        "\n",
        "\n"
      ],
      "metadata": {
        "id": "ly5VDuQ2hKnF"
      }
    },
    {
      "cell_type": "code",
      "source": [],
      "metadata": {
        "id": "KnpIAowoznxq"
      },
      "execution_count": null,
      "outputs": []
    }
  ],
  "metadata": {
    "colab": {
      "provenance": []
    },
    "kernelspec": {
      "display_name": "Python 3",
      "name": "python3"
    },
    "language_info": {
      "name": "python"
    }
  },
  "nbformat": 4,
  "nbformat_minor": 0
}